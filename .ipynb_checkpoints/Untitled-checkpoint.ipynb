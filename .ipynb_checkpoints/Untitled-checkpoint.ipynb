{
 "cells": [
  {
   "cell_type": "markdown",
   "id": "5fd9af1a",
   "metadata": {},
   "source": [
    "# Write a program to store the values of the matrix given below in a 2D list. Then calculate\n",
    "\n",
    "1. The sum of the diagonal elements\n",
    "2. The sum of all elements above the diagonal and the sum of all the elements below the diagonal\n",
    "3. The sum of all the numbers in the rows of the matrix\n",
    "4. The sum of all the columns of the matrix\n",
    "5. Find out the max and min element of each column.\n",
    "\n",
    "a = [[2 3 4] [1 5 6] [5 8 5]]"
   ]
  },
  {
   "cell_type": "markdown",
   "id": "c8f64085",
   "metadata": {},
   "source": [
    "### Creating the list "
   ]
  },
  {
   "cell_type": "code",
   "execution_count": 1,
   "id": "6ed0426e",
   "metadata": {},
   "outputs": [],
   "source": [
    "#importing numpy module\n",
    "import numpy as np"
   ]
  },
  {
   "cell_type": "code",
   "execution_count": 9,
   "id": "36904e73",
   "metadata": {},
   "outputs": [
    {
     "name": "stdout",
     "output_type": "stream",
     "text": [
      "[[2 3 4]\n",
      " [1 5 6]\n",
      " [5 8 5]]\n"
     ]
    }
   ],
   "source": [
    "#storing the matrix in numpy array\n",
    "matrix= np.array([2,3,4,1,5,6,5,8,5])\n",
    "matrix = matrix.reshape(3,3)\n",
    "print(matrix);\n"
   ]
  },
  {
   "cell_type": "markdown",
   "id": "fc445a4c",
   "metadata": {},
   "source": [
    "### Sum of Diagonal:"
   ]
  },
  {
   "cell_type": "code",
   "execution_count": null,
   "id": "c58f3800",
   "metadata": {},
   "outputs": [],
   "source": []
  }
 ],
 "metadata": {
  "kernelspec": {
   "display_name": "Python 3 (ipykernel)",
   "language": "python",
   "name": "python3"
  },
  "language_info": {
   "codemirror_mode": {
    "name": "ipython",
    "version": 3
   },
   "file_extension": ".py",
   "mimetype": "text/x-python",
   "name": "python",
   "nbconvert_exporter": "python",
   "pygments_lexer": "ipython3",
   "version": "3.8.11"
  }
 },
 "nbformat": 4,
 "nbformat_minor": 5
}
