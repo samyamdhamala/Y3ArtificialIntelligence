{
 "cells": [
  {
   "cell_type": "markdown",
   "id": "2d5fc148",
   "metadata": {},
   "source": [
    "## Write a program to store the values of the matrix given below in a 2D list. Then calculate¶\n",
    "1. The sum of the diagonal elements\n",
    "2. The sum of all elements above the diagonal and the sum of all the elements below the diagonal\n",
    "3. The sum of all the numbers in the rows of the matrix\n",
    "4. The sum of all the columns of the matrix\n",
    "5. Find out the max and min element of each column.\n",
    "\n",
    "a = [[2 3 4] [1 5 6] [5 8 5]]"
   ]
  },
  {
   "cell_type": "markdown",
   "id": "850a0aad",
   "metadata": {},
   "source": [
    "### Creating the matrix"
   ]
  },
  {
   "cell_type": "code",
   "execution_count": 24,
   "id": "902f8534",
   "metadata": {},
   "outputs": [
    {
     "name": "stdout",
     "output_type": "stream",
     "text": [
      "[[2 3 4]\n",
      " [1 5 6]\n",
      " [5 8 5]]\n"
     ]
    }
   ],
   "source": [
    "#importing numpy module\n",
    "import numpy as np\n",
    "\n",
    "#storing the matrix in numpy array\n",
    "matrix= np.array([2,3,4,1,5,6,5,8,5])\n",
    "matrix = matrix.reshape(3,3)\n",
    "print(matrix);"
   ]
  },
  {
   "cell_type": "markdown",
   "id": "5c557fd4",
   "metadata": {},
   "source": [
    "### Sum of Diagonal Elements\n"
   ]
  },
  {
   "cell_type": "code",
   "execution_count": 34,
   "id": "ccd4f9c7",
   "metadata": {},
   "outputs": [
    {
     "name": "stdout",
     "output_type": "stream",
     "text": [
      "Sum of Left Diagonal: 12\n",
      "Sum of Left Diagonal: 14\n",
      "Total sum of the Diagonal Elements: 26\n"
     ]
    }
   ],
   "source": [
    "#sum of the left diagonal\n",
    "diag1=0\n",
    "\n",
    "for i in range(len(matrix)):\n",
    "    for j in range(len(matrix[i])):\n",
    "        if i == j:\n",
    "            diag1 += matrix[i][j]\n",
    "print(\"Sum of Left Diagonal:\",diag1)\n",
    "            \n",
    "#sum of the right diagonal\n",
    "diag2=0\n",
    "\n",
    "for i in range(len(matrix)):\n",
    "    for j in range(len(matrix[i])):\n",
    "        if i+j == (len(matrix)-1):\n",
    "            diag2 += matrix[i][j]\n",
    "print(\"Sum of Left Diagonal:\",diag2)\n",
    "        \n",
    "#total sum\n",
    "sumDiagonal = diag1 + diag2\n",
    "print(\"Total sum of the Diagonal Elements:\",sumDiagonal)"
   ]
  },
  {
   "cell_type": "markdown",
   "id": "79ea3bcd",
   "metadata": {},
   "source": [
    "### Sum of elements above and below the diagonal"
   ]
  },
  {
   "cell_type": "code",
   "execution_count": 37,
   "id": "d678f81c",
   "metadata": {},
   "outputs": [
    {
     "name": "stdout",
     "output_type": "stream",
     "text": [
      "Sum of elements above main diagonal: 13\n",
      "Sum of elements above main diagonal: 14\n"
     ]
    }
   ],
   "source": [
    "#for the sum of elements above the diagonal\n",
    "abovesum = 0\n",
    "for i in range(len(matrix)):\n",
    "    for j in range(i+1,len(matrix)):\n",
    "        abovesum += matrix[i][j]\n",
    "print(\"Sum of elements above main diagonal:\",abovesum)\n",
    "\n",
    "#for the sum of elements below the diagonal\n",
    "belowsum = 0\n",
    "for i in range(1,len(matrix)):\n",
    "    for j in range(i):\n",
    "        belowsum += matrix[i][j]\n",
    "print(\"Sum of elements above main diagonal:\",belowsum)"
   ]
  },
  {
   "cell_type": "markdown",
   "id": "ee63db8d",
   "metadata": {},
   "source": [
    "### Sum of all the numbers in the rows of the matrix"
   ]
  },
  {
   "cell_type": "code",
   "execution_count": 46,
   "id": "54f862ed",
   "metadata": {},
   "outputs": [
    {
     "name": "stdout",
     "output_type": "stream",
     "text": [
      "The sum of the row 1 is 9.\n",
      "The sum of the row 2 is 12.\n",
      "The sum of the row 3 is 18.\n"
     ]
    }
   ],
   "source": [
    "rowsum=list()\n",
    "for i in matrix:\n",
    "    rowsum.append(np.sum(i))\n",
    "\n",
    "# Printing out the sum of the rows\n",
    "for index in range(len(rowsum)):\n",
    "    print(f'The sum of the row {index + 1} is {rowsum[index]}.')"
   ]
  },
  {
   "cell_type": "markdown",
   "id": "35c2f43f",
   "metadata": {},
   "source": [
    "###  Sum of all the columns of the matrix"
   ]
  },
  {
   "cell_type": "code",
   "execution_count": null,
   "id": "ca008372",
   "metadata": {},
   "outputs": [],
   "source": [
    "columnsum="
   ]
  }
 ],
 "metadata": {
  "language_info": {
   "codemirror_mode": {
    "name": "ipython",
    "version": 3
   },
   "file_extension": ".py",
   "mimetype": "text/x-python",
   "name": "python",
   "nbconvert_exporter": "python",
   "pygments_lexer": "ipython3",
   "version": "3.8.11"
  }
 },
 "nbformat": 4,
 "nbformat_minor": 5
}
